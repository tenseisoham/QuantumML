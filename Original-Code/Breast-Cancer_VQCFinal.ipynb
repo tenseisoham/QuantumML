{
 "cells": [
  {
   "cell_type": "code",
   "execution_count": 1,
   "metadata": {},
   "outputs": [],
   "source": [
    "import pandas as pd\n",
    "import numpy as np\n",
    "from sklearn.model_selection import train_test_split\n",
    "from sklearn.preprocessing import LabelEncoder\n",
    "\n",
    "breastcancer = '../datasets/breastcancer.csv'\n",
    "df = pd.read_csv(breastcancer, delimiter=';')\n",
    "\n",
    "# Remove the 'id' column as it is not useful for prediction, to simplify the dataset\n",
    "df = df.drop([\"id\"], axis=1)\n",
    "\n",
    "# Reduce the dataframe size by sampling 1/3 of the data\n",
    "df = df.sample(frac=1/3, random_state=1)  # random_state for reproducibility\n",
    "\n",
    "# Separate the dataset into features (X) and target label (y)\n",
    "y = df['diagnosis']  # Target label: diagnosis\n",
    "X = df.drop('diagnosis', axis=1)  # Features: all other columns\n",
    "\n",
    "label_encoder = LabelEncoder()\n",
    "y = label_encoder.fit_transform(y)"
   ]
  },
  {
   "cell_type": "code",
   "execution_count": 2,
   "metadata": {},
   "outputs": [],
   "source": [
    "from sklearn.preprocessing import MinMaxScaler\n",
    "\n",
    "X = MinMaxScaler().fit_transform(X)\n",
    "from sklearn.model_selection import train_test_split\n",
    "from qiskit_algorithms.utils import algorithm_globals\n",
    "\n",
    "algorithm_globals.random_seed = 42\n",
    "train_features, test_features, train_labels, test_labels = train_test_split(\n",
    "    X, y, train_size=0.8, random_state=algorithm_globals.random_seed\n",
    ")"
   ]
  },
  {
   "cell_type": "code",
   "execution_count": 3,
   "metadata": {},
   "outputs": [],
   "source": [
    "from sklearn.svm import SVC\n",
    "\n",
    "svc = SVC()\n",
    "_ = svc.fit(train_features, train_labels)  # suppress printing the return value"
   ]
  },
  {
   "cell_type": "code",
   "execution_count": 4,
   "metadata": {},
   "outputs": [
    {
     "name": "stdout",
     "output_type": "stream",
     "text": [
      "Classical SVC on the training dataset: 0.98\n",
      "Classical SVC on the test dataset:     0.97\n"
     ]
    }
   ],
   "source": [
    "train_score_c4 = svc.score(train_features, train_labels)\n",
    "test_score_c4 = svc.score(test_features, test_labels)\n",
    "\n",
    "print(f\"Classical SVC on the training dataset: {train_score_c4:.2f}\")\n",
    "print(f\"Classical SVC on the test dataset:     {test_score_c4:.2f}\")"
   ]
  },
  {
   "cell_type": "code",
   "execution_count": 6,
   "metadata": {},
   "outputs": [],
   "source": [
    "from sklearn.decomposition import PCA\n",
    "from matplotlib import pyplot as plt\n",
    "\n",
    "features = PCA(n_components=2).fit_transform(X)\n"
   ]
  },
  {
   "cell_type": "code",
   "execution_count": 7,
   "metadata": {},
   "outputs": [
    {
     "name": "stdout",
     "output_type": "stream",
     "text": [
      "Classical SVC on the training dataset: 0.95\n",
      "Classical SVC on the test dataset:     0.95\n"
     ]
    }
   ],
   "source": [
    "from sklearn.model_selection import train_test_split\n",
    "from qiskit_algorithms.utils import algorithm_globals\n",
    "from sklearn.svm import SVC\n",
    "\n",
    "train_features, test_features, train_labels, test_labels = train_test_split(\n",
    "    features, y, train_size=0.8, random_state=algorithm_globals.random_seed\n",
    ")\n",
    "\n",
    "svc = SVC()\n",
    "\n",
    "svc.fit(train_features, train_labels)\n",
    "\n",
    "train_score_c2 = svc.score(train_features, train_labels)\n",
    "test_score_c2 = svc.score(test_features, test_labels)\n",
    "\n",
    "print(f\"Classical SVC on the training dataset: {train_score_c2:.2f}\")\n",
    "print(f\"Classical SVC on the test dataset:     {test_score_c2:.2f}\")"
   ]
  },
  {
   "cell_type": "code",
   "execution_count": 8,
   "metadata": {},
   "outputs": [],
   "source": [
    "from qiskit.primitives import Sampler\n",
    "\n",
    "sampler = Sampler()"
   ]
  },
  {
   "cell_type": "code",
   "execution_count": 9,
   "metadata": {},
   "outputs": [],
   "source": [
    "from matplotlib import pyplot as plt\n",
    "from IPython.display import clear_output\n",
    "\n",
    "objective_func_vals = []\n",
    "plt.rcParams[\"figure.figsize\"] = (12, 6)\n",
    "\n",
    "\n",
    "def callback_graph(weights, obj_func_eval):\n",
    "    clear_output(wait=True)\n",
    "    objective_func_vals.append(obj_func_eval)\n",
    "    plt.title(\"Objective function value against iteration\")\n",
    "    plt.xlabel(\"Iteration\")\n",
    "    plt.ylabel(\"Objective function value\")\n",
    "    plt.plot(range(len(objective_func_vals)), objective_func_vals)\n",
    "    plt.show()"
   ]
  },
  {
   "cell_type": "code",
   "execution_count": 14,
   "metadata": {},
   "outputs": [
    {
     "name": "stdout",
     "output_type": "stream",
     "text": [
      "Saved plot to vqc_plots/ZZFeatureMap_RealAmplitudes_COBYLA.png\n",
      "Saved plot to vqc_plots/ZZFeatureMap_RealAmplitudes_SPSA.png\n",
      "Saved plot to vqc_plots/ZZFeatureMap_RealAmplitudes_L_BFGS_B.png\n",
      "Saved plot to vqc_plots/ZZFeatureMap_RealAmplitudes_ADAM.png\n",
      "Saved plot to vqc_plots/ZZFeatureMap_EfficientSU2_COBYLA.png\n",
      "Saved plot to vqc_plots/ZZFeatureMap_EfficientSU2_SPSA.png\n",
      "Saved plot to vqc_plots/ZZFeatureMap_EfficientSU2_L_BFGS_B.png\n",
      "Saved plot to vqc_plots/ZZFeatureMap_EfficientSU2_ADAM.png\n",
      "Saved plot to vqc_plots/ZFeatureMap_RealAmplitudes_COBYLA.png\n",
      "Saved plot to vqc_plots/ZFeatureMap_RealAmplitudes_SPSA.png\n",
      "Saved plot to vqc_plots/ZFeatureMap_RealAmplitudes_L_BFGS_B.png\n",
      "Saved plot to vqc_plots/ZFeatureMap_RealAmplitudes_ADAM.png\n",
      "Saved plot to vqc_plots/ZFeatureMap_EfficientSU2_COBYLA.png\n",
      "Saved plot to vqc_plots/ZFeatureMap_EfficientSU2_SPSA.png\n",
      "Saved plot to vqc_plots/ZFeatureMap_EfficientSU2_L_BFGS_B.png\n",
      "Saved plot to vqc_plots/ZFeatureMap_EfficientSU2_ADAM.png\n",
      "Saved plot to vqc_plots/PauliFeatureMap_RealAmplitudes_COBYLA.png\n",
      "Saved plot to vqc_plots/PauliFeatureMap_RealAmplitudes_SPSA.png\n",
      "Saved plot to vqc_plots/PauliFeatureMap_RealAmplitudes_L_BFGS_B.png\n",
      "Saved plot to vqc_plots/PauliFeatureMap_RealAmplitudes_ADAM.png\n",
      "Saved plot to vqc_plots/PauliFeatureMap_EfficientSU2_COBYLA.png\n",
      "Saved plot to vqc_plots/PauliFeatureMap_EfficientSU2_SPSA.png\n",
      "Saved plot to vqc_plots/PauliFeatureMap_EfficientSU2_L_BFGS_B.png\n"
     ]
    },
    {
     "ename": "KeyboardInterrupt",
     "evalue": "",
     "output_type": "error",
     "traceback": [
      "\u001b[1;31m---------------------------------------------------------------------------\u001b[0m",
      "\u001b[1;31mKeyboardInterrupt\u001b[0m                         Traceback (most recent call last)",
      "Cell \u001b[1;32mIn[14], line 23\u001b[0m\n\u001b[0;32m     20\u001b[0m vqc \u001b[38;5;241m=\u001b[39m VQC(optimizer\u001b[38;5;241m=\u001b[39moptimizer, feature_map\u001b[38;5;241m=\u001b[39mfeature_map, ansatz\u001b[38;5;241m=\u001b[39mansatz, callback\u001b[38;5;241m=\u001b[39mcallback_graph2)\n\u001b[0;32m     22\u001b[0m \u001b[38;5;66;03m# Train VQC\u001b[39;00m\n\u001b[1;32m---> 23\u001b[0m \u001b[43mvqc\u001b[49m\u001b[38;5;241;43m.\u001b[39;49m\u001b[43mfit\u001b[49m\u001b[43m(\u001b[49m\u001b[43mtrain_features\u001b[49m\u001b[43m,\u001b[49m\u001b[43m \u001b[49m\u001b[43mtrain_labels\u001b[49m\u001b[43m)\u001b[49m\n\u001b[0;32m     25\u001b[0m \u001b[38;5;66;03m# Plotting for this specific combination after training\u001b[39;00m\n\u001b[0;32m     26\u001b[0m plt\u001b[38;5;241m.\u001b[39mfigure(figsize\u001b[38;5;241m=\u001b[39m(\u001b[38;5;241m12\u001b[39m, \u001b[38;5;241m6\u001b[39m))\n",
      "File \u001b[1;32md:\\anaconda\\envs\\qcenv\\lib\\site-packages\\qiskit_machine_learning\\algorithms\\trainable_model.py:199\u001b[0m, in \u001b[0;36mTrainableModel.fit\u001b[1;34m(self, X, y)\u001b[0m\n\u001b[0;32m    196\u001b[0m \u001b[38;5;28;01mif\u001b[39;00m \u001b[38;5;129;01mnot\u001b[39;00m \u001b[38;5;28mself\u001b[39m\u001b[38;5;241m.\u001b[39m_warm_start:\n\u001b[0;32m    197\u001b[0m     \u001b[38;5;28mself\u001b[39m\u001b[38;5;241m.\u001b[39m_fit_result \u001b[38;5;241m=\u001b[39m \u001b[38;5;28;01mNone\u001b[39;00m\n\u001b[1;32m--> 199\u001b[0m \u001b[38;5;28mself\u001b[39m\u001b[38;5;241m.\u001b[39m_fit_result \u001b[38;5;241m=\u001b[39m \u001b[38;5;28;43mself\u001b[39;49m\u001b[38;5;241;43m.\u001b[39;49m\u001b[43m_fit_internal\u001b[49m\u001b[43m(\u001b[49m\u001b[43mX\u001b[49m\u001b[43m,\u001b[49m\u001b[43m \u001b[49m\u001b[43my\u001b[49m\u001b[43m)\u001b[49m\n\u001b[0;32m    200\u001b[0m \u001b[38;5;28;01mreturn\u001b[39;00m \u001b[38;5;28mself\u001b[39m\n",
      "File \u001b[1;32md:\\anaconda\\envs\\qcenv\\lib\\site-packages\\qiskit_machine_learning\\algorithms\\classifiers\\vqc.py:167\u001b[0m, in \u001b[0;36mVQC._fit_internal\u001b[1;34m(self, X, y)\u001b[0m\n\u001b[0;32m    164\u001b[0m     \u001b[38;5;28mself\u001b[39m\u001b[38;5;241m.\u001b[39m_neural_network\u001b[38;5;241m.\u001b[39mset_interpret(\u001b[38;5;28mself\u001b[39m\u001b[38;5;241m.\u001b[39m_get_interpret(num_classes), num_classes)\n\u001b[0;32m    166\u001b[0m function \u001b[38;5;241m=\u001b[39m \u001b[38;5;28mself\u001b[39m\u001b[38;5;241m.\u001b[39m_create_objective(X, y)\n\u001b[1;32m--> 167\u001b[0m \u001b[38;5;28;01mreturn\u001b[39;00m \u001b[38;5;28;43mself\u001b[39;49m\u001b[38;5;241;43m.\u001b[39;49m\u001b[43m_minimize\u001b[49m\u001b[43m(\u001b[49m\u001b[43mfunction\u001b[49m\u001b[43m)\u001b[49m\n",
      "File \u001b[1;32md:\\anaconda\\envs\\qcenv\\lib\\site-packages\\qiskit_machine_learning\\algorithms\\trainable_model.py:295\u001b[0m, in \u001b[0;36mTrainableModel._minimize\u001b[1;34m(self, function)\u001b[0m\n\u001b[0;32m    291\u001b[0m     optimizer_result \u001b[38;5;241m=\u001b[39m \u001b[38;5;28mself\u001b[39m\u001b[38;5;241m.\u001b[39m_optimizer(\n\u001b[0;32m    292\u001b[0m         fun\u001b[38;5;241m=\u001b[39mobjective, x0\u001b[38;5;241m=\u001b[39minitial_point, jac\u001b[38;5;241m=\u001b[39mfunction\u001b[38;5;241m.\u001b[39mgradient\n\u001b[0;32m    293\u001b[0m     )\n\u001b[0;32m    294\u001b[0m \u001b[38;5;28;01melse\u001b[39;00m:\n\u001b[1;32m--> 295\u001b[0m     optimizer_result \u001b[38;5;241m=\u001b[39m \u001b[38;5;28;43mself\u001b[39;49m\u001b[38;5;241;43m.\u001b[39;49m\u001b[43m_optimizer\u001b[49m\u001b[38;5;241;43m.\u001b[39;49m\u001b[43mminimize\u001b[49m\u001b[43m(\u001b[49m\n\u001b[0;32m    296\u001b[0m \u001b[43m        \u001b[49m\u001b[43mfun\u001b[49m\u001b[38;5;241;43m=\u001b[39;49m\u001b[43mobjective\u001b[49m\u001b[43m,\u001b[49m\n\u001b[0;32m    297\u001b[0m \u001b[43m        \u001b[49m\u001b[43mx0\u001b[49m\u001b[38;5;241;43m=\u001b[39;49m\u001b[43minitial_point\u001b[49m\u001b[43m,\u001b[49m\n\u001b[0;32m    298\u001b[0m \u001b[43m        \u001b[49m\u001b[43mjac\u001b[49m\u001b[38;5;241;43m=\u001b[39;49m\u001b[43mfunction\u001b[49m\u001b[38;5;241;43m.\u001b[39;49m\u001b[43mgradient\u001b[49m\u001b[43m,\u001b[49m\n\u001b[0;32m    299\u001b[0m \u001b[43m    \u001b[49m\u001b[43m)\u001b[49m\n\u001b[0;32m    300\u001b[0m \u001b[38;5;28;01mreturn\u001b[39;00m optimizer_result\n",
      "File \u001b[1;32md:\\anaconda\\envs\\qcenv\\lib\\site-packages\\qiskit_algorithms\\optimizers\\adam_amsgrad.py:224\u001b[0m, in \u001b[0;36mADAM.minimize\u001b[1;34m(self, fun, x0, jac, bounds)\u001b[0m\n\u001b[0;32m    222\u001b[0m \u001b[38;5;28;01mwhile\u001b[39;00m \u001b[38;5;28mself\u001b[39m\u001b[38;5;241m.\u001b[39m_t \u001b[38;5;241m<\u001b[39m \u001b[38;5;28mself\u001b[39m\u001b[38;5;241m.\u001b[39m_maxiter:\n\u001b[0;32m    223\u001b[0m     \u001b[38;5;28;01mif\u001b[39;00m \u001b[38;5;28mself\u001b[39m\u001b[38;5;241m.\u001b[39m_t \u001b[38;5;241m>\u001b[39m \u001b[38;5;241m0\u001b[39m:\n\u001b[1;32m--> 224\u001b[0m         derivative \u001b[38;5;241m=\u001b[39m \u001b[43mjac\u001b[49m\u001b[43m(\u001b[49m\u001b[43mparams\u001b[49m\u001b[43m)\u001b[49m\n\u001b[0;32m    225\u001b[0m     \u001b[38;5;28mself\u001b[39m\u001b[38;5;241m.\u001b[39m_t \u001b[38;5;241m+\u001b[39m\u001b[38;5;241m=\u001b[39m \u001b[38;5;241m1\u001b[39m\n\u001b[0;32m    226\u001b[0m     \u001b[38;5;28mself\u001b[39m\u001b[38;5;241m.\u001b[39m_m \u001b[38;5;241m=\u001b[39m \u001b[38;5;28mself\u001b[39m\u001b[38;5;241m.\u001b[39m_beta_1 \u001b[38;5;241m*\u001b[39m \u001b[38;5;28mself\u001b[39m\u001b[38;5;241m.\u001b[39m_m \u001b[38;5;241m+\u001b[39m (\u001b[38;5;241m1\u001b[39m \u001b[38;5;241m-\u001b[39m \u001b[38;5;28mself\u001b[39m\u001b[38;5;241m.\u001b[39m_beta_1) \u001b[38;5;241m*\u001b[39m derivative\n",
      "File \u001b[1;32md:\\anaconda\\envs\\qcenv\\lib\\site-packages\\qiskit_machine_learning\\algorithms\\objective_functions.py:200\u001b[0m, in \u001b[0;36mOneHotObjectiveFunction.gradient\u001b[1;34m(self, weights)\u001b[0m\n\u001b[0;32m    198\u001b[0m y_predict \u001b[38;5;241m=\u001b[39m \u001b[38;5;28mself\u001b[39m\u001b[38;5;241m.\u001b[39m_neural_network_forward(weights)\n\u001b[0;32m    199\u001b[0m \u001b[38;5;66;03m# weight probability gradient is of shape (N, num_outputs, num_weights)\u001b[39;00m\n\u001b[1;32m--> 200\u001b[0m _, weight_prob_grad \u001b[38;5;241m=\u001b[39m \u001b[38;5;28;43mself\u001b[39;49m\u001b[38;5;241;43m.\u001b[39;49m\u001b[43m_neural_network\u001b[49m\u001b[38;5;241;43m.\u001b[39;49m\u001b[43mbackward\u001b[49m\u001b[43m(\u001b[49m\u001b[38;5;28;43mself\u001b[39;49m\u001b[38;5;241;43m.\u001b[39;49m\u001b[43m_X\u001b[49m\u001b[43m,\u001b[49m\u001b[43m \u001b[49m\u001b[43mweights\u001b[49m\u001b[43m)\u001b[49m\n\u001b[0;32m    202\u001b[0m grad \u001b[38;5;241m=\u001b[39m np\u001b[38;5;241m.\u001b[39mzeros(\u001b[38;5;28mself\u001b[39m\u001b[38;5;241m.\u001b[39m_neural_network\u001b[38;5;241m.\u001b[39mnum_weights)\n\u001b[0;32m    203\u001b[0m num_outputs \u001b[38;5;241m=\u001b[39m \u001b[38;5;28mself\u001b[39m\u001b[38;5;241m.\u001b[39m_neural_network\u001b[38;5;241m.\u001b[39moutput_shape[\u001b[38;5;241m0\u001b[39m]\n",
      "File \u001b[1;32md:\\anaconda\\envs\\qcenv\\lib\\site-packages\\qiskit_machine_learning\\neural_networks\\neural_network.py:256\u001b[0m, in \u001b[0;36mNeuralNetwork.backward\u001b[1;34m(self, input_data, weights)\u001b[0m\n\u001b[0;32m    254\u001b[0m input_, shape \u001b[38;5;241m=\u001b[39m \u001b[38;5;28mself\u001b[39m\u001b[38;5;241m.\u001b[39m_validate_input(input_data)\n\u001b[0;32m    255\u001b[0m weights_ \u001b[38;5;241m=\u001b[39m \u001b[38;5;28mself\u001b[39m\u001b[38;5;241m.\u001b[39m_validate_weights(weights)\n\u001b[1;32m--> 256\u001b[0m input_grad, weight_grad \u001b[38;5;241m=\u001b[39m \u001b[38;5;28;43mself\u001b[39;49m\u001b[38;5;241;43m.\u001b[39;49m\u001b[43m_backward\u001b[49m\u001b[43m(\u001b[49m\u001b[43minput_\u001b[49m\u001b[43m,\u001b[49m\u001b[43m \u001b[49m\u001b[43mweights_\u001b[49m\u001b[43m)\u001b[49m\n\u001b[0;32m    258\u001b[0m input_grad_reshaped, weight_grad_reshaped \u001b[38;5;241m=\u001b[39m \u001b[38;5;28mself\u001b[39m\u001b[38;5;241m.\u001b[39m_validate_backward_output(\n\u001b[0;32m    259\u001b[0m     input_grad, weight_grad, shape\n\u001b[0;32m    260\u001b[0m )\n\u001b[0;32m    262\u001b[0m \u001b[38;5;28;01mreturn\u001b[39;00m input_grad_reshaped, weight_grad_reshaped\n",
      "File \u001b[1;32md:\\anaconda\\envs\\qcenv\\lib\\site-packages\\qiskit_machine_learning\\neural_networks\\sampler_qnn.py:423\u001b[0m, in \u001b[0;36mSamplerQNN._backward\u001b[1;34m(self, input_data, weights)\u001b[0m\n\u001b[0;32m    421\u001b[0m \u001b[38;5;28;01mif\u001b[39;00m job \u001b[38;5;129;01mis\u001b[39;00m \u001b[38;5;129;01mnot\u001b[39;00m \u001b[38;5;28;01mNone\u001b[39;00m:\n\u001b[0;32m    422\u001b[0m     \u001b[38;5;28;01mtry\u001b[39;00m:\n\u001b[1;32m--> 423\u001b[0m         results \u001b[38;5;241m=\u001b[39m \u001b[43mjob\u001b[49m\u001b[38;5;241;43m.\u001b[39;49m\u001b[43mresult\u001b[49m\u001b[43m(\u001b[49m\u001b[43m)\u001b[49m\n\u001b[0;32m    424\u001b[0m     \u001b[38;5;28;01mexcept\u001b[39;00m \u001b[38;5;167;01mException\u001b[39;00m \u001b[38;5;28;01mas\u001b[39;00m exc:\n\u001b[0;32m    425\u001b[0m         \u001b[38;5;28;01mraise\u001b[39;00m QiskitMachineLearningError(\u001b[38;5;124m\"\u001b[39m\u001b[38;5;124mSampler job failed.\u001b[39m\u001b[38;5;124m\"\u001b[39m) \u001b[38;5;28;01mfrom\u001b[39;00m \u001b[38;5;21;01mexc\u001b[39;00m\n",
      "File \u001b[1;32md:\\anaconda\\envs\\qcenv\\lib\\site-packages\\qiskit\\primitives\\primitive_job.py:51\u001b[0m, in \u001b[0;36mPrimitiveJob.result\u001b[1;34m(self)\u001b[0m\n\u001b[0;32m     49\u001b[0m \u001b[38;5;28;01mdef\u001b[39;00m \u001b[38;5;21mresult\u001b[39m(\u001b[38;5;28mself\u001b[39m) \u001b[38;5;241m-\u001b[39m\u001b[38;5;241m>\u001b[39m ResultT:\n\u001b[0;32m     50\u001b[0m     \u001b[38;5;28mself\u001b[39m\u001b[38;5;241m.\u001b[39m_check_submitted()\n\u001b[1;32m---> 51\u001b[0m     \u001b[38;5;28;01mreturn\u001b[39;00m \u001b[38;5;28;43mself\u001b[39;49m\u001b[38;5;241;43m.\u001b[39;49m\u001b[43m_future\u001b[49m\u001b[38;5;241;43m.\u001b[39;49m\u001b[43mresult\u001b[49m\u001b[43m(\u001b[49m\u001b[43m)\u001b[49m\n",
      "File \u001b[1;32md:\\anaconda\\envs\\qcenv\\lib\\concurrent\\futures\\_base.py:441\u001b[0m, in \u001b[0;36mFuture.result\u001b[1;34m(self, timeout)\u001b[0m\n\u001b[0;32m    438\u001b[0m \u001b[38;5;28;01melif\u001b[39;00m \u001b[38;5;28mself\u001b[39m\u001b[38;5;241m.\u001b[39m_state \u001b[38;5;241m==\u001b[39m FINISHED:\n\u001b[0;32m    439\u001b[0m     \u001b[38;5;28;01mreturn\u001b[39;00m \u001b[38;5;28mself\u001b[39m\u001b[38;5;241m.\u001b[39m__get_result()\n\u001b[1;32m--> 441\u001b[0m \u001b[38;5;28;43mself\u001b[39;49m\u001b[38;5;241;43m.\u001b[39;49m\u001b[43m_condition\u001b[49m\u001b[38;5;241;43m.\u001b[39;49m\u001b[43mwait\u001b[49m\u001b[43m(\u001b[49m\u001b[43mtimeout\u001b[49m\u001b[43m)\u001b[49m\n\u001b[0;32m    443\u001b[0m \u001b[38;5;28;01mif\u001b[39;00m \u001b[38;5;28mself\u001b[39m\u001b[38;5;241m.\u001b[39m_state \u001b[38;5;129;01min\u001b[39;00m [CANCELLED, CANCELLED_AND_NOTIFIED]:\n\u001b[0;32m    444\u001b[0m     \u001b[38;5;28;01mraise\u001b[39;00m CancelledError()\n",
      "File \u001b[1;32md:\\anaconda\\envs\\qcenv\\lib\\threading.py:312\u001b[0m, in \u001b[0;36mCondition.wait\u001b[1;34m(self, timeout)\u001b[0m\n\u001b[0;32m    310\u001b[0m \u001b[38;5;28;01mtry\u001b[39;00m:    \u001b[38;5;66;03m# restore state no matter what (e.g., KeyboardInterrupt)\u001b[39;00m\n\u001b[0;32m    311\u001b[0m     \u001b[38;5;28;01mif\u001b[39;00m timeout \u001b[38;5;129;01mis\u001b[39;00m \u001b[38;5;28;01mNone\u001b[39;00m:\n\u001b[1;32m--> 312\u001b[0m         \u001b[43mwaiter\u001b[49m\u001b[38;5;241;43m.\u001b[39;49m\u001b[43macquire\u001b[49m\u001b[43m(\u001b[49m\u001b[43m)\u001b[49m\n\u001b[0;32m    313\u001b[0m         gotit \u001b[38;5;241m=\u001b[39m \u001b[38;5;28;01mTrue\u001b[39;00m\n\u001b[0;32m    314\u001b[0m     \u001b[38;5;28;01melse\u001b[39;00m:\n",
      "\u001b[1;31mKeyboardInterrupt\u001b[0m: "
     ]
    }
   ],
   "source": [
    "from matplotlib import pyplot as plt\n",
    "import os\n",
    "\n",
    "def callback_graph2(weights,obj_func_eval):\n",
    "    objective_func_vals.append(obj_func_eval)\n",
    "\n",
    "plot_dir = \"vqc_plots\"\n",
    "os.makedirs(plot_dir, exist_ok=True)\n",
    "\n",
    "# Iterate through all combinations\n",
    "for feature_map in feature_maps:\n",
    "    for ansatz in ansatzes:\n",
    "        for optimizer in optimizers:\n",
    "            # Reset objective function values storage\n",
    "            objective_func_vals = []\n",
    "\n",
    "            # Initialize VQC with the specific combination\n",
    "            vqc = VQC(optimizer=optimizer, feature_map=feature_map, ansatz=ansatz, callback=callback_graph2)\n",
    "\n",
    "            # Train VQC\n",
    "            vqc.fit(train_features, train_labels)\n",
    "\n",
    "            # Plotting for this specific combination after training\n",
    "            plt.figure(figsize=(12, 6))\n",
    "            plt.plot(objective_func_vals, label=f'{feature_map.name}-{ansatz.name}-{optimizer.__class__.__name__}')\n",
    "            plt.title(f'VQC Training - {feature_map.name}, {ansatz.name}, {optimizer.__class__.__name__}')\n",
    "            plt.xlabel('Iteration')\n",
    "            plt.ylabel('Objective Function Value')\n",
    "            plt.legend()\n",
    "            plt.grid(True)\n",
    "\n",
    "            # Save the plot to a file\n",
    "            filename = f\"{plot_dir}/{feature_map.name}_{ansatz.name}_{optimizer.__class__.__name__}.png\"\n",
    "            plt.savefig(filename)\n",
    "            plt.close()  \n",
    "\n",
    "            print(f\"Saved plot to {filename}\")\n"
   ]
  }
 ],
 "metadata": {
  "kernelspec": {
   "display_name": "qcenv",
   "language": "python",
   "name": "python3"
  },
  "language_info": {
   "codemirror_mode": {
    "name": "ipython",
    "version": 3
   },
   "file_extension": ".py",
   "mimetype": "text/x-python",
   "name": "python",
   "nbconvert_exporter": "python",
   "pygments_lexer": "ipython3",
   "version": "3.9.19"
  }
 },
 "nbformat": 4,
 "nbformat_minor": 2
}
