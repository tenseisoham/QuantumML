{
 "cells": [
  {
   "cell_type": "code",
   "execution_count": 6,
   "metadata": {},
   "outputs": [],
   "source": [
    "TOKEN = \"c0ccdabe181dabb983a1cf3fe684d6306b97f6a9f1d9c192cdc25fac22eac29016d525a0b9bc96f4138bc1bae28a0941075b85a4cc66f1178612f5a516a34be8\""
   ]
  },
  {
   "cell_type": "code",
   "execution_count": 7,
   "metadata": {},
   "outputs": [],
   "source": [
    "from qiskit_ibm_runtime import QiskitRuntimeService, SamplerV2 as Sampler\n",
    "from qiskit import QuantumCircuit"
   ]
  },
  {
   "cell_type": "code",
   "execution_count": 8,
   "metadata": {},
   "outputs": [],
   "source": [
    "service = QiskitRuntimeService(channel=\"ibm_quantum\", instance='ibm-q/open/main', token=TOKEN)"
   ]
  },
  {
   "cell_type": "code",
   "execution_count": 9,
   "metadata": {},
   "outputs": [],
   "source": [
    "backend = service.least_busy(simulator=False, operational=True)"
   ]
  },
  {
   "cell_type": "code",
   "execution_count": 11,
   "metadata": {},
   "outputs": [
    {
     "ename": "ImportError",
     "evalue": "cannot import name 'QuantumInstance' from 'qiskit.utils' (/Users/sanidhya/quantum-IBM/lib/python3.11/site-packages/qiskit/utils/__init__.py)",
     "output_type": "error",
     "traceback": [
      "\u001b[0;31m---------------------------------------------------------------------------\u001b[0m",
      "\u001b[0;31mImportError\u001b[0m                               Traceback (most recent call last)",
      "Cell \u001b[0;32mIn[11], line 7\u001b[0m\n\u001b[1;32m      4\u001b[0m \u001b[39mfrom\u001b[39;00m \u001b[39msklearn\u001b[39;00m\u001b[39m.\u001b[39;00m\u001b[39mpreprocessing\u001b[39;00m \u001b[39mimport\u001b[39;00m LabelEncoder\n\u001b[1;32m      5\u001b[0m \u001b[39m# from qiskit import Aer, IBMQ\u001b[39;00m\n\u001b[1;32m      6\u001b[0m \u001b[39m# from qiskit.providers.aer import AerSimulator\u001b[39;00m\n\u001b[0;32m----> 7\u001b[0m \u001b[39mfrom\u001b[39;00m \u001b[39mqiskit\u001b[39;00m\u001b[39m.\u001b[39;00m\u001b[39mutils\u001b[39;00m \u001b[39mimport\u001b[39;00m QuantumInstance\n\u001b[1;32m      8\u001b[0m \u001b[39mfrom\u001b[39;00m \u001b[39mqiskit\u001b[39;00m\u001b[39m.\u001b[39;00m\u001b[39mcircuit\u001b[39;00m \u001b[39mimport\u001b[39;00m QuantumCircuit, ParameterVector\n\u001b[1;32m      9\u001b[0m \u001b[39mfrom\u001b[39;00m \u001b[39mqiskit\u001b[39;00m\u001b[39m.\u001b[39;00m\u001b[39mcircuit\u001b[39;00m\u001b[39m.\u001b[39;00m\u001b[39mlibrary\u001b[39;00m \u001b[39mimport\u001b[39;00m ZZFeatureMap\n",
      "\u001b[0;31mImportError\u001b[0m: cannot import name 'QuantumInstance' from 'qiskit.utils' (/Users/sanidhya/quantum-IBM/lib/python3.11/site-packages/qiskit/utils/__init__.py)"
     ]
    }
   ],
   "source": [
    "import pandas as pd\n",
    "import numpy as np\n",
    "from sklearn.model_selection import train_test_split\n",
    "from sklearn.preprocessing import LabelEncoder\n",
    "# from qiskit import Aer, IBMQ\n",
    "# from qiskit.providers.aer import AerSimulator\n",
    "from qiskit.utils import QuantumInstance\n",
    "from qiskit.circuit import QuantumCircuit, ParameterVector\n",
    "from qiskit.circuit.library import ZZFeatureMap\n",
    "from qiskit.primitives import Sampler\n",
    "from qiskit_machine_learning.kernels import TrainableFidelityQuantumKernel\n",
    "from qiskit_machine_learning.kernels.algorithms import QuantumKernelTrainer\n",
    "from qiskit_machine_learning.algorithms import QSVC\n",
    "from qiskit_algorithms.state_fidelities import ComputeUncompute\n",
    "from qiskit_algorithms.optimizers import SPSA\n",
    "from sklearn.decomposition import PCA\n",
    "from sklearn.pipeline import make_pipeline\n",
    "from sklearn.preprocessing import StandardScaler\n",
    "from sklearn.model_selection import cross_val_score\n",
    "\n",
    "# Load the dataset\n",
    "breastcancer = '/Users/sanidhya/Downloads/diabetes.csv'\n",
    "df = pd.read_csv(breastcancer)\n",
    "\n",
    "# Reduce the dataframe size by sampling 1/3 of the data\n",
    "df = df.sample(frac=1/3, random_state=1)  # random_state for reproducibility\n",
    "\n",
    "# Separate the dataset into features (X) and target label (y)\n",
    "y = df['Outcome']  # Target label: diagnosis\n",
    "X = df.drop('Outcome', axis=1)  # Features: all other columns\n",
    "\n",
    "label_encoder = LabelEncoder()\n",
    "y = label_encoder.fit_transform(y)\n",
    "\n",
    "# Set parameters for the quantum feature map\n",
    "feature_dimension = 2  # Number of features used in the quantum feature map\n",
    "reps = 2  # Number of repetitions of the feature map circuit\n",
    "entanglement = 'linear'  # Type of entanglement in the quantum circuit\n",
    "\n",
    "# Define a custom rotational layer for the quantum feature map\n",
    "training_params = ParameterVector(\"θ\", 1)\n",
    "fm0 = QuantumCircuit(feature_dimension)\n",
    "for qubit in range(feature_dimension):\n",
    "    fm0.ry(training_params[0], qubit)\n",
    "\n",
    "# Use ZZFeatureMap to represent input data\n",
    "fm1 = ZZFeatureMap(feature_dimension=feature_dimension, reps=reps, entanglement=entanglement)\n",
    "\n",
    "# Compose the custom rotational layer with the ZZFeatureMap to create the feature map\n",
    "fm = fm0.compose(fm1)\n",
    "\n",
    "# # Initialize the quantum backend\n",
    "# IBMQ.load_account()\n",
    "# provider = IBMQ.get_provider(hub='ibm-q')\n",
    "# backend = provider.get_backend('ibmq_qasm_simulator')  # Change to a real device if desired\n",
    "quantum_instance = QuantumInstance(backend, shots=1024)\n",
    "\n",
    "# Initialize the Sampler using the quantum backend\n",
    "sampler = Sampler(backend=backend)\n",
    "\n",
    "# Set up the ComputeUncompute fidelity object for quantum kernel estimation\n",
    "fidelity = ComputeUncompute(sampler=sampler)\n",
    "\n",
    "# Instantiate the quantum kernel with the feature map and training parameters\n",
    "quant_kernel = TrainableFidelityQuantumKernel(fidelity=fidelity, feature_map=fm, training_parameters=training_params)\n",
    "\n",
    "# Callback class for tracking optimization progress\n",
    "class QKTCallback:\n",
    "    def __init__(self):\n",
    "        self._data = [[] for i in range(5)]\n",
    "\n",
    "    def callback(self, x0, x1=None, x2=None, x3=None, x4=None):\n",
    "        for i, x in enumerate([x0, x1, x2, x3, x4]):\n",
    "            self._data[i].append(x)\n",
    "\n",
    "    def get_callback_data(self):\n",
    "        return self._data\n",
    "\n",
    "    def clear_callback_data(self):\n",
    "        self._data = [[] for i in range(5)]\n",
    "\n",
    "# Setup and instantiate the optimizer for the quantum kernel\n",
    "cb_qkt = QKTCallback()\n",
    "spsa_opt = SPSA(maxiter=10, callback=cb_qkt.callback, learning_rate=0.01, perturbation=0.05)\n",
    "\n",
    "# Quantum Kernel Trainer (QKT) for optimizing the kernel parameters\n",
    "qkt = QuantumKernelTrainer(\n",
    "    quantum_kernel=quant_kernel, loss=\"svc_loss\", optimizer=spsa_opt, initial_point=[np.pi / 2], quantum_instance=quantum_instance\n",
    ")\n",
    "\n",
    "# Reduce the dimensionality of the feature set\n",
    "pca = PCA(n_components=2)\n",
    "X_ = pca.fit_transform(X)\n",
    "\n",
    "print(\"Training\")\n",
    "\n",
    "# Train the quantum kernel with the reduced dataset\n",
    "qka_results = qkt.fit(X_, y)\n",
    "optimized_kernel = qka_results.quantum_kernel\n",
    "\n",
    "print(\"Training complete\")\n",
    "\n",
    "# Use the quantum-enhanced kernel in a Quantum Support Vector Classifier (QSVC)\n",
    "qsvc = QSVC(quantum_kernel=optimized_kernel)\n",
    "pipeline = make_pipeline(StandardScaler(), PCA(n_components=2), qsvc)\n",
    "\n",
    "# Evaluate the performance of the model using cross-validation\n",
    "cv = cross_val_score(pipeline, X, y, cv=5, n_jobs=1)\n",
    "mean_score = np.mean(cv)\n",
    "\n",
    "print(mean_score)"
   ]
  },
  {
   "cell_type": "code",
   "execution_count": null,
   "metadata": {},
   "outputs": [],
   "source": []
  }
 ],
 "metadata": {
  "kernelspec": {
   "display_name": "Python 3",
   "language": "python",
   "name": "python3"
  },
  "language_info": {
   "codemirror_mode": {
    "name": "ipython",
    "version": 3
   },
   "file_extension": ".py",
   "mimetype": "text/x-python",
   "name": "python",
   "nbconvert_exporter": "python",
   "pygments_lexer": "ipython3",
   "version": "3.11.0"
  },
  "orig_nbformat": 4
 },
 "nbformat": 4,
 "nbformat_minor": 2
}
