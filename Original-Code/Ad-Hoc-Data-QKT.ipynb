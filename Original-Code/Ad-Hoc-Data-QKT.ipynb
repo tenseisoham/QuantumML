{
 "cells": [
  {
   "cell_type": "code",
   "execution_count": 5,
   "metadata": {},
   "outputs": [],
   "source": [
    "from qiskit_algorithms.utils import algorithm_globals\n",
    "\n",
    "algorithm_globals.random_seed = 12345 # global seed for reproducibility"
   ]
  },
  {
   "cell_type": "code",
   "execution_count": 6,
   "metadata": {},
   "outputs": [],
   "source": [
    "from qiskit_machine_learning.datasets import ad_hoc_data\n",
    "\n",
    "adhoc_dimension = 2\n",
    "train_features, train_labels, test_features, test_labels, adhoc_total = ad_hoc_data(\n",
    "    training_size=20,\n",
    "    test_size=5,\n",
    "    n=adhoc_dimension,\n",
    "    gap=0.3,\n",
    "    plot_data=False,\n",
    "    one_hot=False,\n",
    "    include_sample_total=True,\n",
    ")"
   ]
  },
  {
   "cell_type": "code",
   "execution_count": 7,
   "metadata": {},
   "outputs": [
    {
     "name": "stdout",
     "output_type": "stream",
     "text": [
      "Training\n",
      "Training complete\n",
      "0.725\n"
     ]
    }
   ],
   "source": [
    "import pandas as pd\n",
    "import numpy as np\n",
    "from sklearn.model_selection import train_test_split\n",
    "from sklearn.preprocessing import LabelEncoder\n",
    "\n",
    "# Separate the dataset into features (X) and target label (y)\n",
    "y = train_labels\n",
    "X = train_features\n",
    "\n",
    "label_encoder = LabelEncoder()\n",
    "y = label_encoder.fit_transform(y)\n",
    "\n",
    "# Set parameters for the quantum feature map\n",
    "feature_dimension = 2  # Number of features used in the quantum feature map\n",
    "reps = 2  # Number of repetitions of the feature map circuit\n",
    "entanglement = 'linear'  # Type of entanglement in the quantum circuit\n",
    "\n",
    "# Define a custom rotational layer for the quantum feature map\n",
    "from qiskit import QuantumCircuit\n",
    "from qiskit.circuit import ParameterVector\n",
    "training_params = ParameterVector(\"θ\", 1)\n",
    "fm0 = QuantumCircuit(feature_dimension)\n",
    "for qubit in range(feature_dimension):\n",
    "    fm0.ry(training_params[0], qubit)\n",
    "\n",
    "# Use ZZFeatureMap to represent input data\n",
    "from qiskit.circuit.library import ZZFeatureMap\n",
    "fm1 = ZZFeatureMap(feature_dimension=feature_dimension, reps=reps, entanglement=entanglement)\n",
    "\n",
    "# Compose the custom rotational layer with the ZZFeatureMap to create the feature map\n",
    "fm = fm0.compose(fm1)\n",
    "\n",
    "# Initialize the Sampler, a Qiskit primitive for sampling from quantum circuits\n",
    "from qiskit.primitives import Sampler\n",
    "sampler = Sampler()\n",
    "\n",
    "# Set up the ComputeUncompute fidelity object for quantum kernel estimation\n",
    "from qiskit_algorithms.state_fidelities import ComputeUncompute\n",
    "from qiskit_machine_learning.kernels import TrainableFidelityQuantumKernel\n",
    "fidelity = ComputeUncompute(sampler=sampler)\n",
    "\n",
    "# Instantiate the quantum kernel with the feature map and training parameters\n",
    "quant_kernel = TrainableFidelityQuantumKernel(fidelity=fidelity, feature_map=fm, training_parameters=training_params)\n",
    "\n",
    "# Callback class for tracking optimization progress\n",
    "class QKTCallback:\n",
    "    # Callback wrapper class\n",
    "    def __init__(self):\n",
    "        self._data = [[] for i in range(5)]\n",
    "\n",
    "    def callback(self, x0, x1=None, x2=None, x3=None, x4=None):\n",
    "        #Capture callback data for analysis\n",
    "        for i, x in enumerate([x0, x1, x2, x3, x4]):\n",
    "            self._data[i].append(x)\n",
    "\n",
    "    def get_callback_data(self):\n",
    "        #Get captured callback data\n",
    "        return self._data\n",
    "\n",
    "    def clear_callback_data(self):\n",
    "        #Clear captured callback data\n",
    "        self._data = [[] for i in range(5)]\n",
    "\n",
    "# Setup and instantiate the optimizer for the quantum kernel\n",
    "from qiskit_algorithms.optimizers import SPSA\n",
    "cb_qkt = QKTCallback()\n",
    "spsa_opt = SPSA(maxiter=10, callback=cb_qkt.callback, learning_rate=0.01, perturbation=0.05)\n",
    "\n",
    "# Quantum Kernel Trainer (QKT) for optimizing the kernel parameters\n",
    "from qiskit_machine_learning.kernels.algorithms import QuantumKernelTrainer\n",
    "qkt = QuantumKernelTrainer(\n",
    "    quantum_kernel=quant_kernel, loss=\"svc_loss\", optimizer=spsa_opt, initial_point=[np.pi / 2]\n",
    ")\n",
    "\n",
    "from sklearn.decomposition import PCA\n",
    "pca = PCA(n_components=2)\n",
    "X_ = pca.fit_transform(X)\n",
    "\n",
    "print(\"Training\")\n",
    "\n",
    "# Train the quantum kernel with the reduced dataset\n",
    "qka_results = qkt.fit(X_, y)\n",
    "optimized_kernel = qka_results.quantum_kernel\n",
    "\n",
    "print(\"Training complete\")\n",
    "\n",
    "# Use the quantum-enhanced kernel in a Quantum Support Vector Classifier (QSVC)\n",
    "from qiskit_machine_learning.algorithms import QSVC\n",
    "from sklearn.pipeline import make_pipeline\n",
    "from sklearn.preprocessing import StandardScaler\n",
    "qsvc = QSVC(quantum_kernel=optimized_kernel)\n",
    "pipeline = make_pipeline(StandardScaler(), PCA(n_components=2), qsvc)\n",
    "\n",
    "# Evaluate the performance of the model using cross-validation\n",
    "from sklearn.model_selection import cross_val_score\n",
    "cv = cross_val_score(pipeline, X, y, cv=5, n_jobs=1)\n",
    "mean_score = np.mean(cv)\n",
    "\n",
    "print(mean_score)"
   ]
  },
  {
   "cell_type": "code",
   "execution_count": 8,
   "metadata": {},
   "outputs": [
    {
     "name": "stdout",
     "output_type": "stream",
     "text": [
      "Training QSVC\n",
      "QSVC Training complete\n",
      "QSVC Score: 0.725\n",
      "SVC Score: 0.375\n"
     ]
    }
   ],
   "source": [
    "import pandas as pd\n",
    "import numpy as np\n",
    "from sklearn.model_selection import train_test_split, cross_val_score\n",
    "from sklearn.preprocessing import LabelEncoder, StandardScaler\n",
    "from sklearn.decomposition import PCA\n",
    "from sklearn.svm import SVC\n",
    "from sklearn.pipeline import make_pipeline\n",
    "from qiskit import QuantumCircuit\n",
    "from qiskit.circuit import ParameterVector\n",
    "from qiskit.circuit.library import ZZFeatureMap\n",
    "from qiskit.primitives import Sampler\n",
    "from qiskit_algorithms.state_fidelities import ComputeUncompute\n",
    "from qiskit_machine_learning.kernels import TrainableFidelityQuantumKernel\n",
    "from qiskit_algorithms.optimizers import SPSA\n",
    "from qiskit_machine_learning.kernels.algorithms import QuantumKernelTrainer\n",
    "from qiskit_machine_learning.algorithms import QSVC\n",
    "\n",
    "# Label encoding\n",
    "label_encoder = LabelEncoder()\n",
    "y = label_encoder.fit_transform(train_labels)\n",
    "\n",
    "# Quantum feature map setup\n",
    "feature_dimension = 2\n",
    "reps = 2\n",
    "entanglement = 'linear'\n",
    "training_params = ParameterVector(\"θ\", 1)\n",
    "fm0 = QuantumCircuit(feature_dimension)\n",
    "for qubit in range(feature_dimension):\n",
    "    fm0.ry(training_params[0], qubit)\n",
    "\n",
    "fm1 = ZZFeatureMap(feature_dimension=feature_dimension, reps=reps, entanglement=entanglement)\n",
    "fm = fm0.compose(fm1)\n",
    "\n",
    "# Sampler and fidelity setup for quantum kernel\n",
    "sampler = Sampler()\n",
    "fidelity = ComputeUncompute(sampler=sampler)\n",
    "quant_kernel = TrainableFidelityQuantumKernel(fidelity=fidelity, feature_map=fm, training_parameters=training_params)\n",
    "\n",
    "# Callback and optimizer for quantum kernel training\n",
    "class QKTCallback:\n",
    "    def __init__(self):\n",
    "        self._data = [[] for i in range(5)]\n",
    "    def callback(self, x0, x1=None, x2=None, x3=None, x4=None):\n",
    "        for i, x in enumerate([x0, x1, x2, x3, x4]):\n",
    "            self._data[i].append(x)\n",
    "    def get_callback_data(self):\n",
    "        return self._data\n",
    "    def clear_callback_data(self):\n",
    "        self._data = [[] for i in range(5)]\n",
    "\n",
    "cb_qkt = QKTCallback()\n",
    "spsa_opt = SPSA(maxiter=10, callback=cb_qkt.callback, learning_rate=0.01, perturbation=0.05)\n",
    "qkt = QuantumKernelTrainer(quantum_kernel=quant_kernel, loss=\"svc_loss\", optimizer=spsa_opt, initial_point=[np.pi / 2])\n",
    "\n",
    "# PCA transformation\n",
    "pca = PCA(n_components=2)\n",
    "X_ = pca.fit_transform(train_features)\n",
    "\n",
    "print(\"Training QSVC\")\n",
    "qka_results = qkt.fit(X_, y)\n",
    "optimized_kernel = qka_results.quantum_kernel\n",
    "print(\"QSVC Training complete\")\n",
    "\n",
    "# Setup QSVC\n",
    "qsvc = QSVC(quantum_kernel=optimized_kernel)\n",
    "qsvc_pipeline = make_pipeline(StandardScaler(), PCA(n_components=2), qsvc)\n",
    "\n",
    "# Evaluate QSVC\n",
    "qscores = cross_val_score(qsvc_pipeline, train_features, y, cv=5, n_jobs=1)\n",
    "qmean_score = np.mean(qscores)\n",
    "print(\"QSVC Score:\", qmean_score)"
   ]
  },
  {
   "cell_type": "code",
   "execution_count": 12,
   "metadata": {},
   "outputs": [
    {
     "name": "stdout",
     "output_type": "stream",
     "text": [
      "QSVC classification test score: 1.0\n"
     ]
    }
   ],
   "source": [
    "qsvc.fit(train_features, train_labels)\n",
    "\n",
    "qsvc_score = qsvc.score(test_features, test_labels)\n",
    "\n",
    "print(f\"QSVC classification test score: {qsvc_score}\")"
   ]
  },
  {
   "cell_type": "code",
   "execution_count": 10,
   "metadata": {},
   "outputs": [
    {
     "name": "stdout",
     "output_type": "stream",
     "text": [
      "SVC Score: 0.475\n"
     ]
    }
   ],
   "source": [
    "# Setup classical SVC\n",
    "svc = SVC(kernel='rbf')\n",
    "svc_pipeline = make_pipeline(StandardScaler(), PCA(n_components=2), svc)\n",
    "\n",
    "# Evaluate classical SVC\n",
    "cscores = cross_val_score(svc_pipeline, train_features, y, cv=5, n_jobs=1)\n",
    "cmean_score = np.mean(cscores)\n",
    "print(\"SVC Score:\", cmean_score)"
   ]
  },
  {
   "cell_type": "code",
   "execution_count": null,
   "metadata": {},
   "outputs": [],
   "source": []
  }
 ],
 "metadata": {
  "kernelspec": {
   "display_name": "Python 3",
   "language": "python",
   "name": "python3"
  },
  "language_info": {
   "codemirror_mode": {
    "name": "ipython",
    "version": 3
   },
   "file_extension": ".py",
   "mimetype": "text/x-python",
   "name": "python",
   "nbconvert_exporter": "python",
   "pygments_lexer": "ipython3",
   "version": "3.11.0"
  },
  "orig_nbformat": 4
 },
 "nbformat": 4,
 "nbformat_minor": 2
}
